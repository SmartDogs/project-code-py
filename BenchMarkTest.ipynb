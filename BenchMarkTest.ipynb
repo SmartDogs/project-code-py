{
  "nbformat": 4,
  "nbformat_minor": 0,
  "metadata": {
    "colab": {
      "name": "BenchMarkTest.ipynb",
      "provenance": [],
      "authorship_tag": "ABX9TyPHZpadV4tibwX0bwLG53YG",
      "include_colab_link": true
    },
    "kernelspec": {
      "name": "python3",
      "display_name": "Python 3"
    }
  },
  "cells": [
    {
      "cell_type": "markdown",
      "metadata": {
        "id": "view-in-github",
        "colab_type": "text"
      },
      "source": [
        "<a href=\"https://colab.research.google.com/github/gagan3012/project-code-py/blob/master/BenchMarkTest.ipynb\" target=\"_parent\"><img src=\"https://colab.research.google.com/assets/colab-badge.svg\" alt=\"Open In Colab\"/></a>"
      ]
    },
    {
      "cell_type": "code",
      "metadata": {
        "colab": {
          "base_uri": "https://localhost:8080/"
        },
        "id": "471Ubv-NLNV3",
        "outputId": "12ce98d9-e5c0-48c2-9fe3-f9ab71258b5a"
      },
      "source": [
        "!pip install transformers"
      ],
      "execution_count": 16,
      "outputs": [
        {
          "output_type": "stream",
          "text": [
            "Requirement already satisfied: transformers in /usr/local/lib/python3.7/dist-packages (4.3.3)\n",
            "Requirement already satisfied: numpy>=1.17 in /usr/local/lib/python3.7/dist-packages (from transformers) (1.19.5)\n",
            "Requirement already satisfied: tokenizers<0.11,>=0.10.1 in /usr/local/lib/python3.7/dist-packages (from transformers) (0.10.1)\n",
            "Requirement already satisfied: requests in /usr/local/lib/python3.7/dist-packages (from transformers) (2.23.0)\n",
            "Requirement already satisfied: tqdm>=4.27 in /usr/local/lib/python3.7/dist-packages (from transformers) (4.41.1)\n",
            "Requirement already satisfied: filelock in /usr/local/lib/python3.7/dist-packages (from transformers) (3.0.12)\n",
            "Requirement already satisfied: importlib-metadata; python_version < \"3.8\" in /usr/local/lib/python3.7/dist-packages (from transformers) (3.7.0)\n",
            "Requirement already satisfied: packaging in /usr/local/lib/python3.7/dist-packages (from transformers) (20.9)\n",
            "Requirement already satisfied: sacremoses in /usr/local/lib/python3.7/dist-packages (from transformers) (0.0.43)\n",
            "Requirement already satisfied: regex!=2019.12.17 in /usr/local/lib/python3.7/dist-packages (from transformers) (2019.12.20)\n",
            "Requirement already satisfied: certifi>=2017.4.17 in /usr/local/lib/python3.7/dist-packages (from requests->transformers) (2020.12.5)\n",
            "Requirement already satisfied: idna<3,>=2.5 in /usr/local/lib/python3.7/dist-packages (from requests->transformers) (2.10)\n",
            "Requirement already satisfied: urllib3!=1.25.0,!=1.25.1,<1.26,>=1.21.1 in /usr/local/lib/python3.7/dist-packages (from requests->transformers) (1.24.3)\n",
            "Requirement already satisfied: chardet<4,>=3.0.2 in /usr/local/lib/python3.7/dist-packages (from requests->transformers) (3.0.4)\n",
            "Requirement already satisfied: typing-extensions>=3.6.4; python_version < \"3.8\" in /usr/local/lib/python3.7/dist-packages (from importlib-metadata; python_version < \"3.8\"->transformers) (3.7.4.3)\n",
            "Requirement already satisfied: zipp>=0.5 in /usr/local/lib/python3.7/dist-packages (from importlib-metadata; python_version < \"3.8\"->transformers) (3.4.0)\n",
            "Requirement already satisfied: pyparsing>=2.0.2 in /usr/local/lib/python3.7/dist-packages (from packaging->transformers) (2.4.7)\n",
            "Requirement already satisfied: joblib in /usr/local/lib/python3.7/dist-packages (from sacremoses->transformers) (1.0.1)\n",
            "Requirement already satisfied: click in /usr/local/lib/python3.7/dist-packages (from sacremoses->transformers) (7.1.2)\n",
            "Requirement already satisfied: six in /usr/local/lib/python3.7/dist-packages (from sacremoses->transformers) (1.15.0)\n"
          ],
          "name": "stdout"
        }
      ]
    },
    {
      "cell_type": "code",
      "metadata": {
        "colab": {
          "base_uri": "https://localhost:8080/"
        },
        "id": "1SbaIoDuLagj",
        "outputId": "1455d944-61de-4bbb-8941-87d901a25066"
      },
      "source": [
        "from transformers import AutoTokenizer, AutoModelWithLMHead\r\n",
        "\r\n",
        "tokenizer = AutoTokenizer.from_pretrained(\"gagan3012/project-code-py\")\r\n",
        "\r\n",
        "model = AutoModelWithLMHead.from_pretrained(\"gagan3012/project-code-py\")"
      ],
      "execution_count": 17,
      "outputs": [
        {
          "output_type": "stream",
          "text": [
            "/usr/local/lib/python3.7/dist-packages/transformers/models/auto/modeling_auto.py:970: FutureWarning: The class `AutoModelWithLMHead` is deprecated and will be removed in a future version. Please use `AutoModelForCausalLM` for causal language models, `AutoModelForMaskedLM` for masked language models and `AutoModelForSeq2SeqLM` for encoder-decoder models.\n",
            "  FutureWarning,\n"
          ],
          "name": "stderr"
        }
      ]
    },
    {
      "cell_type": "code",
      "metadata": {
        "colab": {
          "base_uri": "https://localhost:8080/"
        },
        "id": "IJ9jy2s9Lef6",
        "outputId": "75002f39-21ba-48f2-f257-fe86cc8093d5"
      },
      "source": [
        "sequence = \"\"\"Given an array of integers nums and a positive integer k\"\"\"\r\n",
        "inputs = tokenizer.encode(sequence, return_tensors='pt')\r\n",
        "outputs = model.generate(inputs, max_length=1024, do_sample=True, temperature=0.5, top_p=1.0)\r\n",
        "text = tokenizer.decode(outputs[0], skip_special_tokens=True)\r\n",
        "print(text.encode().decode('unicode_escape'))"
      ],
      "execution_count": 18,
      "outputs": [
        {
          "output_type": "stream",
          "text": [
            "Setting `pad_token_id` to `eos_token_id`:50256 for open-end generation.\n"
          ],
          "name": "stderr"
        },
        {
          "output_type": "stream",
          "text": [
            "Given an array of integers nums and a positive integer k, find the length of longest continuous subarray that contains at least one number.\n",
            "\n",
            "For example, given nums = [2,3,1,7], k = 3.\n",
            "\n",
            "The longest continuous subarray that contains at least one number is [2,3,1,7].\n",
            "\n",
            "Note:\n",
            "Your algorithm should run in linear runtime complexity. Could you implement it using only constant extra space complexity?\n",
            "\"\"\"\n",
            "\n",
            "\n",
            "class Solution:\n",
            "    def longestConsecutive(self, nums: List[int], k: int) -> int:\n",
            "        \"\"\"\n",
            "        dfs\n",
            "        If k is less than n, return -1\n",
            "        \"\"\"\n",
            "        if len(nums) <= k:\n",
            "            return 1\n",
            "\n",
            "        mn = len(nums) + 1\n",
            "        k = mn - 1\n",
            "        while k > 0 and nums[k] < nums[k - 1]:\n",
            "            if nums[k] < nums[k + 1]:\n",
            "                return mn - 1\n",
            "            k -= 1\n",
            "            mn = max(mn, k)\n",
            "        return -1\n"
          ],
          "name": "stdout"
        }
      ]
    },
    {
      "cell_type": "code",
      "metadata": {
        "colab": {
          "base_uri": "https://localhost:8080/"
        },
        "id": "WwKSyKVEL6oq",
        "outputId": "ffeae7a3-4233-4b5f-b400-074b57987463"
      },
      "source": [
        "sequence = \"\"\"Given an array of integers\"\"\"\r\n",
        "inputs = tokenizer.encode(sequence, return_tensors='pt')\r\n",
        "outputs = model.generate(inputs, max_length=1024, do_sample=True, temperature=0.5, top_p=1.0)\r\n",
        "text = tokenizer.decode(outputs[0], skip_special_tokens=True)\r\n",
        "print(text.encode().decode('unicode_escape'))"
      ],
      "execution_count": 19,
      "outputs": [
        {
          "output_type": "stream",
          "text": [
            "Setting `pad_token_id` to `eos_token_id`:50256 for open-end generation.\n"
          ],
          "name": "stderr"
        },
        {
          "output_type": "stream",
          "text": [
            "Given an array of integers, return the minimum number of steps required to make the array a palindrome.\n",
            "\n",
            "\n",
            "Example 1:\n",
            "\n",
            "Input: [1,2,3]\n",
            "Output: 5\n",
            "Explanation: The array is made up of [1,2,3], [1,2,3], [1,2,3], [1,2,3], and [1,2,3].\n",
            "\n",
            "\n",
            "Example 2:\n",
            "\n",
            "Input: [1,2,3,4,5]\n",
            "Output: 3\n",
            "Explanation: The array is made up of [1,2,3], [1,2,3], [1,2,3], [1,2,3], and [1,2,3].\n",
            "\n",
            "\n",
            "Note:\n",
            "\n",
            "1 <= nums.length <= 10000\n",
            "1 <= nums[i] <= 10000\n",
            "-10000 <= nums[i] <= 10000\n",
            "\n",
            "\"\"\"\n",
            "\n",
            "\n",
            "class Solution:\n",
            "    def minSteps(self, nums: List[int]) -> int:\n",
            "        \"\"\"\n",
            "        sort\n",
            "        \"\"\"\n",
            "        if not nums:\n",
            "            return 0\n",
            "        ls = len(nums)\n",
            "        ret = 0\n",
            "        for i, v in enumerate(nums):\n",
            "            if v == 0:\n",
            "                ret += 1\n",
            "                continue\n",
            "            if v == 1:\n",
            "                ret += 1\n",
            "                continue\n",
            "            if v == 2:\n",
            "                ret += 1\n",
            "                continue\n",
            "            if v == 3:\n",
            "                ret += 1\n",
            "        return ret\n"
          ],
          "name": "stdout"
        }
      ]
    },
    {
      "cell_type": "code",
      "metadata": {
        "colab": {
          "base_uri": "https://localhost:8080/"
        },
        "id": "iXZtAqiuMkq8",
        "outputId": "0950473f-57af-4895-cda0-6cd117e87e2a"
      },
      "source": [
        "#two sum problem\r\n",
        "sequence = \"\"\"Given an array of integers nums and an integer target, return indices of the two numbers such that they add up to target.\"\"\"\r\n",
        "inputs = tokenizer.encode(sequence, return_tensors='pt')\r\n",
        "outputs = model.generate(inputs, max_length=1024, do_sample=True, temperature=0.5, top_p=1.0)\r\n",
        "text = tokenizer.decode(outputs[0], skip_special_tokens=True)\r\n",
        "print(text.encode().decode('unicode_escape'))"
      ],
      "execution_count": 21,
      "outputs": [
        {
          "output_type": "stream",
          "text": [
            "Setting `pad_token_id` to `eos_token_id`:50256 for open-end generation.\n"
          ],
          "name": "stderr"
        },
        {
          "output_type": "stream",
          "text": [
            "Given an array of integers nums and an integer target, return indices of the two numbers such that they add up to target.\n",
            "\n",
            "Example 1:\n",
            "Input: nums = [2,3,1,1,2,5]\n",
            "Output: 4\n",
            "Explanation: The two numbers add up to 4 because of the following rules:\n",
            "\n",
            "1. If the target is 1, then the two numbers are equal.\n",
            "2. If the target is 2, then the two numbers are equal.\n",
            "3. If the target is 5, then the two numbers are equal.\n",
            "4. If the target is 1, then the two numbers are equal.\n",
            "\n",
            "Note:\n",
            "\n",
            "1 <= nums.length <= 50000\n",
            "-10000 <= nums[i] <= 10000\n",
            "-10000 <= nums[i] <= 10000\n",
            "\"\"\"\n",
            "from typing import List\n",
            "from collections import defaultdict\n",
            "\n",
            "\n",
            "class Solution:\n",
            "    def twoSum(self, nums: List[int]) -> int:\n",
            "        \"\"\"\n",
            "        Let F[i] be the sum of the two sums\n",
            "        F[i-1] = F[i-2] + F[i-3]\n",
            "        \"\"\"\n",
            "        F = defaultdict(lambda: defaultdict(int))\n",
            "        for i in range(len(nums)):\n",
            "            F[i] = F[i-1] + F[i-2]\n",
            "        return F[-1]\n",
            "\n",
            "    def twoSum_error(self, nums: List[int]) -> int:\n",
            "        \"\"\"\n",
            "        Let F[i] be the sum of the two sums\n",
            "        F[i] = F[i-1] + F[i-2]\n",
            "        \"\"\"\n",
            "        F = defaultdict(lambda: defaultdict(int))\n",
            "        for i in range(len(nums)):\n",
            "            F[i] = F[i-1] + F[i-2]\n",
            "        return F[-1]\n",
            "\n",
            "\n",
            "    def twoSum_error_error(self, nums: List[int]) -> int:\n",
            "        \"\"\"\n",
            "        Let F[i] be the sum of the two sums\n",
            "        F[i] = F[i-1] + F[i-2]\n",
            "        \"\"\"\n",
            "        F = defaultdict(lambda: defaultdict(int))\n",
            "        for i in range(len(nums)):\n",
            "            F[i] = F[i-1] + F[i-2]\n",
            "        return F[-1]\n",
            "\n",
            "\n",
            "    def twoSum_error_error_error(self, nums: List[int]) -> int:\n",
            "        \"\"\"\n",
            "        Let F[i] be the sum of the two sums\n",
            "        F[i] = F[i-1] + F[i-2]\n",
            "        \"\"\"\n",
            "        F = defaultdict(lambda: defaultdict(int))\n",
            "        for i in range(len(nums)):\n",
            "            F[i] = F[i-1] + F[i-2]\n",
            "        return F[-1]\n",
            "\n",
            "\n",
            "    def twoSum_error_error_error_error(self, nums: List[int]) -> int:\n",
            "        \"\"\"\n",
            "        Let F[i] be the sum of the two sums\n",
            "        F[i] = F[i-1] + F[i-2\n"
          ],
          "name": "stdout"
        }
      ]
    },
    {
      "cell_type": "code",
      "metadata": {
        "id": "o_AW_wEiQzPA"
      },
      "source": [
        ""
      ],
      "execution_count": null,
      "outputs": []
    }
  ]
}